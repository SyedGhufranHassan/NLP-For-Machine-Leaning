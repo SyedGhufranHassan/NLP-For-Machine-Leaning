{
 "cells": [
  {
   "cell_type": "markdown",
   "id": "08fa1def",
   "metadata": {},
   "source": [
    "Stemming is the process of reducing a word to its root or base form by removing suffixes or prefixes. For example, \"running\", \"runs\", and \"ran\" are all reduced to the root word \"run\"."
   ]
  },
  {
   "cell_type": "code",
   "execution_count": 37,
   "id": "794f84f9",
   "metadata": {},
   "outputs": [],
   "source": [
    "words=[\"eating\",\"eat\",\"eaten\",\"writing\",\"writes\",\"programming\",\"programs\",\"history\",\"finally\",\"finalize\"]"
   ]
  },
  {
   "cell_type": "markdown",
   "id": "45a592f3",
   "metadata": {},
   "source": [
    "## Porter Stemmer"
   ]
  },
  {
   "cell_type": "markdown",
   "id": "cbe516d7",
   "metadata": {},
   "source": [
    "Porter Stemmer is one of the most widely used stemming algorithms in NLP. It applies a set of rules to iteratively remove common morphological and inflectional endings from words in English—for example, it reduces “caresses” to “caress” and “ponies” to “poni”.\n"
   ]
  },
  {
   "cell_type": "code",
   "execution_count": 38,
   "id": "bb94c1a6",
   "metadata": {},
   "outputs": [],
   "source": [
    "from nltk.stem import PorterStemmer"
   ]
  },
  {
   "cell_type": "code",
   "execution_count": 39,
   "id": "efbcad8d",
   "metadata": {},
   "outputs": [],
   "source": [
    "stemming=PorterStemmer()"
   ]
  },
  {
   "cell_type": "code",
   "execution_count": 40,
   "id": "0f4c008f",
   "metadata": {},
   "outputs": [
    {
     "name": "stdout",
     "output_type": "stream",
     "text": [
      "eating----->eat\n",
      "eat----->eat\n",
      "eaten----->eaten\n",
      "writing----->write\n",
      "writes----->write\n",
      "programming----->program\n",
      "programs----->program\n",
      "history----->histori\n",
      "finally----->final\n",
      "finalize----->final\n"
     ]
    }
   ],
   "source": [
    "for word in words:\n",
    "    print(word + \"----->\" + stemming.stem(word))"
   ]
  },
  {
   "cell_type": "markdown",
   "id": "eff65471",
   "metadata": {},
   "source": [
    "The major disadvantage of Stemming is that it can change the meaning of word like that:"
   ]
  },
  {
   "cell_type": "code",
   "execution_count": 41,
   "id": "37c54c2c",
   "metadata": {},
   "outputs": [
    {
     "data": {
      "text/plain": [
       "'congratul'"
      ]
     },
     "execution_count": 41,
     "metadata": {},
     "output_type": "execute_result"
    }
   ],
   "source": [
    "stemming.stem(\"congratulations\")"
   ]
  },
  {
   "cell_type": "code",
   "execution_count": 42,
   "id": "91ebe9ea",
   "metadata": {},
   "outputs": [
    {
     "data": {
      "text/plain": [
       "'sit'"
      ]
     },
     "execution_count": 42,
     "metadata": {},
     "output_type": "execute_result"
    }
   ],
   "source": [
    "stemming.stem(\"sitting\")"
   ]
  },
  {
   "cell_type": "markdown",
   "id": "4f782082",
   "metadata": {},
   "source": [
    "## RegexpStemmer Class"
   ]
  },
  {
   "cell_type": "markdown",
   "id": "a422fe75",
   "metadata": {},
   "source": [
    "RegexpStemmer (Regular Expression Stemmer) is a rule-based stemmer in NLTK that uses regular expressions to strip prefixes or suffixes from words. It gives you full control to define custom stemming rules.\n"
   ]
  },
  {
   "cell_type": "code",
   "execution_count": 43,
   "id": "829817ba",
   "metadata": {},
   "outputs": [],
   "source": [
    "from nltk.stem import RegexpStemmer"
   ]
  },
  {
   "cell_type": "code",
   "execution_count": 44,
   "id": "1709b0fa",
   "metadata": {},
   "outputs": [],
   "source": [
    "reg_stemming=RegexpStemmer(\"ing$|s$|e$|able$\", min=4)"
   ]
  },
  {
   "cell_type": "code",
   "execution_count": 45,
   "id": "2eca0a0e",
   "metadata": {},
   "outputs": [
    {
     "data": {
      "text/plain": [
       "'eat'"
      ]
     },
     "execution_count": 45,
     "metadata": {},
     "output_type": "execute_result"
    }
   ],
   "source": [
    "reg_stemming.stem(\"eating\")"
   ]
  },
  {
   "cell_type": "code",
   "execution_count": 46,
   "id": "50390773",
   "metadata": {},
   "outputs": [
    {
     "data": {
      "text/plain": [
       "'ingeat'"
      ]
     },
     "execution_count": 46,
     "metadata": {},
     "output_type": "execute_result"
    }
   ],
   "source": [
    "reg_stemming.stem(\"ingeating\")"
   ]
  },
  {
   "cell_type": "code",
   "execution_count": 47,
   "id": "62676aef",
   "metadata": {},
   "outputs": [
    {
     "data": {
      "text/plain": [
       "'write'"
      ]
     },
     "execution_count": 47,
     "metadata": {},
     "output_type": "execute_result"
    }
   ],
   "source": [
    "reg_stemming.stem(\"writes\")"
   ]
  },
  {
   "cell_type": "code",
   "execution_count": 48,
   "id": "8cab5dc8",
   "metadata": {},
   "outputs": [
    {
     "data": {
      "text/plain": [
       "'congratulat'"
      ]
     },
     "execution_count": 48,
     "metadata": {},
     "output_type": "execute_result"
    }
   ],
   "source": [
    "reg_stemming.stem(\"congratulating\")"
   ]
  },
  {
   "cell_type": "code",
   "execution_count": 49,
   "id": "2d809834",
   "metadata": {},
   "outputs": [
    {
     "data": {
      "text/plain": [
       "'congratulation'"
      ]
     },
     "execution_count": 49,
     "metadata": {},
     "output_type": "execute_result"
    }
   ],
   "source": [
    "reg_stemming.stem(\"congratulations\")"
   ]
  },
  {
   "cell_type": "markdown",
   "id": "19ccce42",
   "metadata": {},
   "source": [
    "## SnowballStemmer"
   ]
  },
  {
   "cell_type": "markdown",
   "id": "35b03279",
   "metadata": {},
   "source": [
    "Snowball Stemmer (also known as the Porter2 Stemmer) is an improved version of the Porter Stemmer. It is more aggressive, consistent, and supports multiple languages (unlike the original Porter stemmer, which only supports English)."
   ]
  },
  {
   "cell_type": "code",
   "execution_count": 50,
   "id": "c27c6128",
   "metadata": {},
   "outputs": [],
   "source": [
    "from nltk.stem import SnowballStemmer"
   ]
  },
  {
   "cell_type": "code",
   "execution_count": 51,
   "id": "83625cd4",
   "metadata": {},
   "outputs": [],
   "source": [
    "snow_stemming=SnowballStemmer(\"english\")"
   ]
  },
  {
   "cell_type": "code",
   "execution_count": 52,
   "id": "a03b8e1a",
   "metadata": {},
   "outputs": [
    {
     "name": "stdout",
     "output_type": "stream",
     "text": [
      "eating---->eat\n",
      "eat---->eat\n",
      "eaten---->eaten\n",
      "writing---->write\n",
      "writes---->write\n",
      "programming---->program\n",
      "programs---->program\n",
      "history---->histori\n",
      "finally---->final\n",
      "finalize---->final\n"
     ]
    }
   ],
   "source": [
    "for word in words:\n",
    "    print(word + \"---->\" + snow_stemming.stem(word))"
   ]
  },
  {
   "cell_type": "markdown",
   "id": "5f67c71d",
   "metadata": {},
   "source": [
    "Difference b/w PorterStemmer & SnowballStemmer"
   ]
  },
  {
   "cell_type": "code",
   "execution_count": 53,
   "id": "448121f4",
   "metadata": {},
   "outputs": [
    {
     "data": {
      "text/plain": [
       "('fairli', 'sportingli')"
      ]
     },
     "execution_count": 53,
     "metadata": {},
     "output_type": "execute_result"
    }
   ],
   "source": [
    "#PorterStemmer\n",
    "stemming.stem(\"fairly\"),stemming.stem(\"sportingly\")"
   ]
  },
  {
   "cell_type": "code",
   "execution_count": 54,
   "id": "9b4845be",
   "metadata": {},
   "outputs": [
    {
     "data": {
      "text/plain": [
       "('fair', 'sport')"
      ]
     },
     "execution_count": 54,
     "metadata": {},
     "output_type": "execute_result"
    }
   ],
   "source": [
    "#SnowballStemmer\n",
    "snow_stemming.stem(\"fairly\"),snow_stemming.stem(\"sportingly\")"
   ]
  }
 ],
 "metadata": {
  "kernelspec": {
   "display_name": "Python 3",
   "language": "python",
   "name": "python3"
  },
  "language_info": {
   "codemirror_mode": {
    "name": "ipython",
    "version": 3
   },
   "file_extension": ".py",
   "mimetype": "text/x-python",
   "name": "python",
   "nbconvert_exporter": "python",
   "pygments_lexer": "ipython3",
   "version": "3.13.3"
  }
 },
 "nbformat": 4,
 "nbformat_minor": 5
}
