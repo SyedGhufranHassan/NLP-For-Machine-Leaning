{
 "cells": [
  {
   "cell_type": "markdown",
   "id": "a29f2d3d",
   "metadata": {},
   "source": [
    "Lemmatization is the process of reducing a word to its base or dictionary form (called a lemma), considering the word's context and part of speech. Unlike stemming, lemmatization returns real words.\n",
    "\n",
    "Example:\n",
    "\"running\" → \"run\"\n",
    "\n",
    "            \"better\" → \"good\""
   ]
  },
  {
   "cell_type": "markdown",
   "id": "035f2bbe",
   "metadata": {},
   "source": [
    "WordNetLemmatizer is an NLTK lemmatizer that uses the WordNet lexical database to return the base form (lemma) of a word, depending on its part of speech (POS). It gives more accurate results than stemming by using word meaning and context."
   ]
  },
  {
   "cell_type": "code",
   "execution_count": null,
   "id": "b88ea10d",
   "metadata": {},
   "outputs": [],
   "source": [
    "from nltk.stem import WordNetLemmatizer"
   ]
  },
  {
   "cell_type": "code",
   "execution_count": null,
   "id": "a6b7e4e8",
   "metadata": {},
   "outputs": [],
   "source": [
    "lemmatizer=WordNetLemmatizer()"
   ]
  },
  {
   "cell_type": "code",
   "execution_count": null,
   "id": "3873db4d",
   "metadata": {},
   "outputs": [],
   "source": [
    "\"\"\" \n",
    "POS-\n",
    "Noun-n#\n",
    "Verb-v\n",
    "Adjective-a\n",
    "Adverb-r\n",
    "\"\"\"\n",
    "\n",
    "lemmatizer.lemmatize(\"going\")"
   ]
  },
  {
   "cell_type": "code",
   "execution_count": null,
   "id": "34ddf6e1",
   "metadata": {},
   "outputs": [],
   "source": [
    "words=[\"eating\",\"eat\",\"eaten\",\"writing\",\"writes\",\"programming\",\"programs\",\"history\",\"finally\",\"finalize\"]"
   ]
  },
  {
   "cell_type": "code",
   "execution_count": null,
   "id": "b170a4c3",
   "metadata": {},
   "outputs": [],
   "source": [
    "for word in words:\n",
    "    print(word + \"---->\" + lemmatizer.lemmatize(word,pos=\"n\"))"
   ]
  },
  {
   "cell_type": "code",
   "execution_count": null,
   "id": "ac5350e5",
   "metadata": {},
   "outputs": [],
   "source": [
    "for word in words:\n",
    "    print(word + \"---->\" + lemmatizer.lemmatize(word,pos=\"v\"))"
   ]
  },
  {
   "cell_type": "code",
   "execution_count": null,
   "id": "c1b8544b",
   "metadata": {},
   "outputs": [],
   "source": [
    "for word in words:\n",
    "    print(word + \"---->\" + lemmatizer.lemmatize(word,pos=\"a\"))"
   ]
  },
  {
   "cell_type": "code",
   "execution_count": null,
   "id": "038a07b1",
   "metadata": {},
   "outputs": [],
   "source": [
    "for word in words:\n",
    "    print(word + \"---->\" + lemmatizer.lemmatize(word,pos=\"r\"))"
   ]
  },
  {
   "cell_type": "code",
   "execution_count": null,
   "id": "1f3530c6",
   "metadata": {},
   "outputs": [],
   "source": [
    "lemmatizer.lemmatize(\"goes\",pos=\"v\")"
   ]
  },
  {
   "cell_type": "code",
   "execution_count": null,
   "id": "9067c3a5",
   "metadata": {},
   "outputs": [],
   "source": [
    "lemmatizer.lemmatize(\"fairly\",pos=\"v\"),lemmatizer.lemmatize(\"sportingly\")"
   ]
  }
 ],
 "metadata": {
  "kernelspec": {
   "display_name": "Python 3",
   "language": "python",
   "name": "python3"
  },
  "language_info": {
   "codemirror_mode": {
    "name": "ipython",
    "version": 3
   },
   "file_extension": ".py",
   "mimetype": "text/x-python",
   "name": "python",
   "nbconvert_exporter": "python",
   "pygments_lexer": "ipython3",
   "version": "3.13.3"
  }
 },
 "nbformat": 4,
 "nbformat_minor": 5
}
