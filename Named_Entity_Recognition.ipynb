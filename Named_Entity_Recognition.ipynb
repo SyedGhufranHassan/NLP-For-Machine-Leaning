{
 "cells": [
  {
   "cell_type": "code",
   "execution_count": null,
   "id": "f19e536d",
   "metadata": {},
   "outputs": [],
   "source": [
    "corpus=\"\"\"Apple Inc. announced the launch of its new iPhone model during a keynote event held in Cupertino, California, on September 12, 2023. CEO Tim Cook highlighted new features including an advanced A17 Bionic chip and improved camera technology. The event was attended by media representatives from around the world, including journalists from The New York Times, BBC, and Reuters. Pre-orders for the device began on September 15, with shipments expected to start in the United States, Canada, and Germany by the end of the month.\"\"\""
   ]
  },
  {
   "cell_type": "code",
   "execution_count": null,
   "id": "75f7a2a8",
   "metadata": {},
   "outputs": [],
   "source": [
    "import nltk"
   ]
  },
  {
   "cell_type": "code",
   "execution_count": null,
   "id": "e9ded16a",
   "metadata": {},
   "outputs": [],
   "source": [
    "from nltk.tokenize.punkt import PunktSentenceTokenizer\n",
    "import pickle\n",
    "from nltk.tokenize import TreebankWordTokenizer\n",
    "\n",
    "# Use Treebank tokenizer directly (used under the hood by word_tokenize)\n",
    "word_tokenizer = TreebankWordTokenizer()\n",
    "\n",
    "words=word_tokenizer.tokenize(corpus)\n",
    "words"
   ]
  },
  {
   "cell_type": "code",
   "execution_count": null,
   "id": "b7c59cb6",
   "metadata": {},
   "outputs": [],
   "source": [
    "tag_element=nltk.pos_tag(words)"
   ]
  },
  {
   "cell_type": "code",
   "execution_count": null,
   "id": "bc826bc0",
   "metadata": {},
   "outputs": [],
   "source": [
    "nltk.download(\"maxent_ne_chunker\")"
   ]
  },
  {
   "cell_type": "code",
   "execution_count": null,
   "id": "376e048b",
   "metadata": {},
   "outputs": [],
   "source": [
    "nltk.download(\"words\")"
   ]
  },
  {
   "cell_type": "code",
   "execution_count": null,
   "id": "8af7e81d",
   "metadata": {},
   "outputs": [],
   "source": [
    "nltk.ne_chunk(tag_element)"
   ]
  }
 ],
 "metadata": {
  "kernelspec": {
   "display_name": "Python 3",
   "language": "python",
   "name": "python3"
  },
  "language_info": {
   "codemirror_mode": {
    "name": "ipython",
    "version": 3
   },
   "file_extension": ".py",
   "mimetype": "text/x-python",
   "name": "python",
   "nbconvert_exporter": "python",
   "pygments_lexer": "ipython3",
   "version": "3.13.3"
  }
 },
 "nbformat": 4,
 "nbformat_minor": 5
}
